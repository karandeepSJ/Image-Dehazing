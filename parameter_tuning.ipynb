{
 "cells": [
  {
   "cell_type": "code",
   "execution_count": 85,
   "metadata": {},
   "outputs": [],
   "source": [
    "import cv2\n",
    "import numpy as np\n",
    "import matplotlib.pyplot as plt\n",
    "import os"
   ]
  },
  {
   "cell_type": "code",
   "execution_count": 86,
   "metadata": {},
   "outputs": [],
   "source": [
    "def get_dark_channel(img, wind_size):\n",
    "    dark_channel = np.zeros((img.shape[0], img.shape[1]))\n",
    "    img = cv2.copyMakeBorder(img,wind_size//2,wind_size//2,wind_size//2,wind_size//2,cv2.BORDER_CONSTANT,value=[255,255,255])    \n",
    "    no_rows = img.shape[0]\n",
    "    no_cols = img.shape[1]\n",
    "    min_channel = np.zeros((no_rows, no_cols))\n",
    "    for row in range(no_rows):\n",
    "        for col in range(no_cols):\n",
    "            min_channel[row-wind_size//2][col-wind_size//2] = np.min(img[row,col,:])\n",
    "    for row in range(wind_size//2, no_rows-wind_size//2):\n",
    "        for col in range(wind_size//2, no_cols-wind_size//2):\n",
    "            dark_channel[row-wind_size//2][col-wind_size//2] = np.min(min_channel[row-wind_size//2:row+wind_size//2,col-wind_size//2:col+wind_size//2])\n",
    "    return dark_channel"
   ]
  },
  {
   "cell_type": "code",
   "execution_count": 87,
   "metadata": {},
   "outputs": [],
   "source": [
    "def get_atm_light(im, dark_channel_img):\n",
    "    img = im.copy()\n",
    "    num_pixels = dark_channel_img.size\n",
    "    num_brightest = num_pixels//1000\n",
    "    haze_density_sort_idx = np.argsort(dark_channel_img,axis=None)[::-1]\n",
    "    brightest = haze_density_sort_idx[0:num_brightest]\n",
    "    brightest = np.unravel_index(brightest,dark_channel_img.shape)\n",
    "    brightest_pixels = img[brightest]\n",
    "    top_intensities = np.average(brightest_pixels, axis=1)\n",
    "    max_intensity = np.argmax(top_intensities)\n",
    "    A = brightest_pixels[max_intensity]\n",
    "    img[brightest]=[255,0,0]\n",
    "    row_min = np.min(brightest[0])\n",
    "    row_max = np.max(brightest[0])\n",
    "    col_min = np.min(brightest[1])\n",
    "    col_max = np.max(brightest[1])\n",
    "    cv2.rectangle(img, (col_min,row_min),(col_max,row_max),(0,0,255),thickness=2)\n",
    "    return A"
   ]
  },
  {
   "cell_type": "code",
   "execution_count": 88,
   "metadata": {},
   "outputs": [],
   "source": [
    "def refine(img, transmission, radius, epsilon):\n",
    "    mean_guide = cv2.blur(img,(radius,radius))\n",
    "    mean_trans = cv2.blur(transmission,(radius,radius))\n",
    "    mean_gt = cv2.blur(img * transmission, (radius,radius))\n",
    "    \n",
    "    a = mean_gt - mean_guide * mean_trans\n",
    "    var_guide = cv2.blur(img * img,(radius,radius)) - (mean_guide * mean_guide)\n",
    "    a = a/(var_guide + epsilon)\n",
    "    b = mean_trans - a * mean_guide\n",
    "\n",
    "    q = cv2.blur(a,(radius,radius)) * img + cv2.blur(b,(radius,radius))\n",
    "    return q"
   ]
  },
  {
   "cell_type": "code",
   "execution_count": 89,
   "metadata": {},
   "outputs": [],
   "source": [
    "def recover_image(img, trans_bar, atm_light, t0):\n",
    "    trans_recover = np.copy(trans_bar)\n",
    "    trans_recover[trans_recover < t0] = t0\n",
    "    J = np.zeros((img.shape))\n",
    "    J[:,:,0] = ((img[:,:,0] - atm_light[0])/trans_recover) + atm_light[0]\n",
    "    J[:,:,1] = ((img[:,:,1] - atm_light[1])/trans_recover) + atm_light[1]\n",
    "    J[:,:,2] = ((img[:,:,2] - atm_light[2])/trans_recover) + atm_light[2]\n",
    "    return J"
   ]
  },
  {
   "cell_type": "code",
   "execution_count": 90,
   "metadata": {},
   "outputs": [],
   "source": [
    "def color_balance(img, s):\n",
    "    out = np.copy(img)\n",
    "    hist = np.zeros((256,1))\n",
    "    no_of_pixels = img.shape[0] * img.shape[1]\n",
    "    for i in range(3):\n",
    "        channel_vals = img[:,:,i]\n",
    "        for pixel_val in range(256):\n",
    "            hist[pixel_val] = np.sum((channel_vals == pixel_val)) \n",
    "        for pixel_val in range(256):\n",
    "            hist[pixel_val] = hist[pixel_val-1] + hist[pixel_val]\n",
    "        Vmin = 0\n",
    "        while (Vmin < 255 and hist[Vmin] <= no_of_pixels*s):\n",
    "            Vmin += 1\n",
    "        Vmax = 255\n",
    "        while (Vmax > 0 and hist[Vmax] > no_of_pixels*(1-s)):\n",
    "            Vmax -= 1\n",
    "        channel_vals[channel_vals < Vmin] = Vmin\n",
    "        channel_vals[channel_vals > Vmax] = Vmax\n",
    "        out[:,:,i] = cv2.normalize(channel_vals, channel_vals.copy(), 0, 255, cv2.NORM_MINMAX)\n",
    "    return out"
   ]
  },
  {
   "cell_type": "code",
   "execution_count": 114,
   "metadata": {},
   "outputs": [],
   "source": [
    "def run(gt_path, im_path, omega, t0, radius, dark_rad):\n",
    "    img = cv2.imread(im_path)\n",
    "    img = cv2.resize(img,(0,0),fx=1/6,fy=1/6)\n",
    "    dark_channel_img = get_dark_channel(img, dark_rad)\n",
    "    dark_channel_img = dark_channel_img.astype('uint8')\n",
    "    atm_light = get_atm_light(img,dark_channel_img)\n",
    "    t_bar = get_dark_channel(img/atm_light,dark_rad)\n",
    "    trans_bar = 1-(omega * t_bar)\n",
    "    i=cv2.cvtColor(img,cv2.COLOR_BGR2GRAY)/255\n",
    "    t_refine = refine(i, trans_bar, radius, 0.0001)\n",
    "    im = img.astype(\"double\")\n",
    "    J = recover_image(im, t_refine, atm_light, t0)\n",
    "    J = ((J-np.min(J))/(np.max(J)-np.min(J)))*255\n",
    "    cb_J = color_balance(np.uint8(J),0.005)\n",
    "    gt = cv2.imread(gt_path)\n",
    "    gt = cv2.resize(gt,(0,0),fx=1/6,fy=1/6)\n",
    "    E = np.sum((cb_J-gt)**2)/gt.size\n",
    "    return (10*np.log10(255*255/E))"
   ]
  },
  {
   "cell_type": "code",
   "execution_count": 115,
   "metadata": {},
   "outputs": [
    {
     "name": "stdout",
     "output_type": "stream",
     "text": [
      "0 "
     ]
    },
    {
     "ename": "TypeError",
     "evalue": "run() missing 2 required positional arguments: 'radius' and 'dark_rad'",
     "output_type": "error",
     "traceback": [
      "\u001b[0;31m---------------------------------------------------------------------------\u001b[0m",
      "\u001b[0;31mTypeError\u001b[0m                                 Traceback (most recent call last)",
      "\u001b[0;32m<ipython-input-115-9bda82a8bb4e>\u001b[0m in \u001b[0;36m<module>\u001b[0;34m()\u001b[0m\n\u001b[1;32m      9\u001b[0m     \u001b[0;32mfor\u001b[0m \u001b[0mi\u001b[0m \u001b[0;32min\u001b[0m \u001b[0mrange\u001b[0m\u001b[0;34m(\u001b[0m\u001b[0mlen\u001b[0m\u001b[0;34m(\u001b[0m\u001b[0mgt\u001b[0m\u001b[0;34m)\u001b[0m\u001b[0;34m)\u001b[0m\u001b[0;34m:\u001b[0m\u001b[0;34m\u001b[0m\u001b[0m\n\u001b[1;32m     10\u001b[0m         \u001b[0mprint\u001b[0m\u001b[0;34m(\u001b[0m\u001b[0mstr\u001b[0m\u001b[0;34m(\u001b[0m\u001b[0mi\u001b[0m\u001b[0;34m)\u001b[0m \u001b[0;34m+\u001b[0m \u001b[0;34m' '\u001b[0m\u001b[0;34m,\u001b[0m\u001b[0mend\u001b[0m\u001b[0;34m=\u001b[0m\u001b[0;34m''\u001b[0m\u001b[0;34m)\u001b[0m\u001b[0;34m\u001b[0m\u001b[0m\n\u001b[0;32m---> 11\u001b[0;31m         \u001b[0mp\u001b[0m \u001b[0;34m+=\u001b[0m \u001b[0mrun\u001b[0m\u001b[0;34m(\u001b[0m\u001b[0mos\u001b[0m\u001b[0;34m.\u001b[0m\u001b[0mpath\u001b[0m\u001b[0;34m.\u001b[0m\u001b[0mjoin\u001b[0m\u001b[0;34m(\u001b[0m\u001b[0;34m'./Dataset/O-Haze/GT'\u001b[0m\u001b[0;34m,\u001b[0m\u001b[0mgt\u001b[0m\u001b[0;34m[\u001b[0m\u001b[0mi\u001b[0m\u001b[0;34m]\u001b[0m\u001b[0;34m)\u001b[0m\u001b[0;34m,\u001b[0m \u001b[0mos\u001b[0m\u001b[0;34m.\u001b[0m\u001b[0mpath\u001b[0m\u001b[0;34m.\u001b[0m\u001b[0mjoin\u001b[0m\u001b[0;34m(\u001b[0m\u001b[0;34m'./Dataset/O-Haze/hazy'\u001b[0m\u001b[0;34m,\u001b[0m\u001b[0mhazy\u001b[0m\u001b[0;34m[\u001b[0m\u001b[0mi\u001b[0m\u001b[0;34m]\u001b[0m\u001b[0;34m)\u001b[0m\u001b[0;34m,\u001b[0m\u001b[0mom\u001b[0m\u001b[0;34m,\u001b[0m\u001b[0;36m0.1\u001b[0m\u001b[0;34m)\u001b[0m\u001b[0;34m\u001b[0m\u001b[0m\n\u001b[0m\u001b[1;32m     12\u001b[0m     \u001b[0mprint\u001b[0m\u001b[0;34m(\u001b[0m\u001b[0mp\u001b[0m\u001b[0;34m/\u001b[0m\u001b[0mlen\u001b[0m\u001b[0;34m(\u001b[0m\u001b[0mgt\u001b[0m\u001b[0;34m)\u001b[0m\u001b[0;34m)\u001b[0m\u001b[0;34m\u001b[0m\u001b[0m\n\u001b[1;32m     13\u001b[0m     \u001b[0mPSNR\u001b[0m\u001b[0;34m.\u001b[0m\u001b[0mappend\u001b[0m\u001b[0;34m(\u001b[0m\u001b[0mp\u001b[0m\u001b[0;34m/\u001b[0m\u001b[0mlen\u001b[0m\u001b[0;34m(\u001b[0m\u001b[0mgt\u001b[0m\u001b[0;34m)\u001b[0m\u001b[0;34m)\u001b[0m\u001b[0;34m\u001b[0m\u001b[0m\n",
      "\u001b[0;31mTypeError\u001b[0m: run() missing 2 required positional arguments: 'radius' and 'dark_rad'"
     ]
    }
   ],
   "source": [
    "gt = next(os.walk('./Dataset/O-Haze/GT'))[2]\n",
    "gt.sort()\n",
    "hazy = next(os.walk('./Dataset/O-Haze/hazy/'))[2]\n",
    "hazy.sort()\n",
    "omega = np.arange(0,1.01,0.05)\n",
    "PSNR = []\n",
    "for om in omega:\n",
    "    p = 0\n",
    "    for i in range(len(gt)):\n",
    "        print(str(i) + ' ',end='')\n",
    "        p += run(os.path.join('./Dataset/O-Haze/GT',gt[i]), os.path.join('./Dataset/O-Haze/hazy',hazy[i]),om,0.1)\n",
    "    print(p/len(gt))\n",
    "    PSNR.append(p/len(gt))"
   ]
  },
  {
   "cell_type": "code",
   "execution_count": 81,
   "metadata": {},
   "outputs": [
    {
     "data": {
      "text/plain": [
       "[28.062530199109748,\n",
       " 28.065588004968646,\n",
       " 28.067724306064374,\n",
       " 28.06973207340207,\n",
       " 28.07099439571828,\n",
       " 28.0709118123459,\n",
       " 28.071356371891877,\n",
       " 28.07334148676493,\n",
       " 28.07241825190669,\n",
       " 28.071024423191577,\n",
       " 28.068963479075325,\n",
       " 28.067129629792245,\n",
       " 28.065069949183886,\n",
       " 28.064762788460506,\n",
       " 28.07199469822072,\n",
       " 28.081582204515648,\n",
       " 28.088816785717487,\n",
       " 28.08681163804922,\n",
       " 28.08136497058668,\n",
       " 28.06077165217289,\n",
       " 28.041014971518877]"
      ]
     },
     "execution_count": 81,
     "metadata": {},
     "output_type": "execute_result"
    }
   ],
   "source": [
    "PSNR"
   ]
  },
  {
   "cell_type": "code",
   "execution_count": 112,
   "metadata": {},
   "outputs": [
    {
     "data": {
      "image/png": "[encoded data removed]",
      "text/plain": [
       "<Figure size 432x288 with 1 Axes>"
      ]
     },
     "metadata": {},
     "output_type": "display_data"
    }
   ],
   "source": [
    "plt.plot(omega,PSNR)\n",
    "plt.scatter(0.8,PSNR[16],s=150, facecolors='none', edgecolors='r')\n",
    "plt.xlabel(\"Omega\")\n",
    "plt.ylabel(\"PSNR(dB)\")\n",
    "plt.title(\"Optimizing the value of omega\")\n",
    "plt.show()"
   ]
  },
  {
   "cell_type": "code",
   "execution_count": 93,
   "metadata": {},
   "outputs": [
    {
     "name": "stdout",
     "output_type": "stream",
     "text": [
      "0 1 2 3 4 5 6 7 8 9 10 11 12 13 14 15 16 17 18 19 20 21 22 23 24 25 26 27 28 29 30 31 32 33 34 35 36 37 38 39 40 41 42 43 44 28.065109641665757\n",
      "0 1 2 3 4 5 6 7 8 9 10 11 12 13 14 15 16 17 18 19 20 21 22 23 24 25 26 27 28 29 30 31 32 33 34 35 36 37 38 39 40 41 42 43 44 28.061728213954584\n",
      "0 1 2 3 4 5 6 7 8 9 10 11 12 13 14 15 16 17 18 19 20 21 22 23 24 25 26 27 28 29 30 31 32 33 34 35 36 37 38 39 40 41 42 43 44 28.065535962602254\n",
      "0 1 2 3 4 5 6 7 8 9 10 11 12 13 14 15 16 17 18 19 20 21 22 23 24 25 26 27 28 29 30 31 32 33 34 35 36 37 38 39 40 41 42 43 44 28.060505155606112\n",
      "0 1 2 3 4 5 6 7 8 9 10 11 12 13 14 15 16 17 18 19 20 21 22 23 24 25 26 27 28 29 30 31 32 33 34 35 36 37 38 39 40 41 42 43 44 28.06183731664401\n",
      "0 1 2 3 4 5 6 7 8 9 10 11 12 13 14 15 16 17 18 19 20 21 22 23 24 25 26 27 28 29 30 31 32 33 34 35 36 37 38 39 40 41 42 43 44 28.06077165217289\n",
      "0 1 2 3 4 5 6 7 8 9 10 11 12 13 14 15 16 17 18 19 20 21 22 23 24 25 26 27 28 29 30 31 32 33 34 35 36 37 38 39 40 41 42 43 44 28.06106082886694\n",
      "0 1 2 3 4 5 6 7 8 9 10 11 12 13 14 15 16 17 18 19 20 21 22 23 24 25 26 27 28 29 30 31 32 33 34 35 36 37 38 39 40 41 42 43 44 28.059201090298497\n",
      "0 1 2 3 4 5 6 7 8 9 10 11 12 13 14 15 16 17 18 19 20 21 22 23 24 25 26 27 28 29 30 31 32 33 34 35 36 37 38 39 40 41 42 43 44 28.057806863173084\n",
      "0 1 2 3 4 5 6 7 8 9 10 11 12 13 14 15 16 17 18 19 20 21 22 23 24 25 26 27 28 29 30 31 32 33 34 35 36 37 38 39 40 41 42 43 44 28.05829259459939\n"
     ]
    }
   ],
   "source": [
    "gt = next(os.walk('./Dataset/O-Haze/GT'))[2]\n",
    "gt.sort()\n",
    "hazy = next(os.walk('./Dataset/O-Haze/hazy/'))[2]\n",
    "hazy.sort()\n",
    "PSNR2 = []\n",
    "radius = [10,20,30,40,50,60,70,80,90,100]\n",
    "for r in radius:\n",
    "    p = 0\n",
    "    for i in range(len(gt)):\n",
    "        print(str(i) + ' ',end='')\n",
    "        p += run(os.path.join('./Dataset/O-Haze/GT',gt[i]), os.path.join('./Dataset/O-Haze/hazy',hazy[i]),0.95,0.1,r)\n",
    "    print(p/len(gt))\n",
    "    PSNR2.append(p/len(gt))"
   ]
  },
  {
   "cell_type": "code",
   "execution_count": 113,
   "metadata": {},
   "outputs": [
    {
     "data": {
      "image/png": "[encoded data removed]",
      "text/plain": [
       "<Figure size 432x288 with 1 Axes>"
      ]
     },
     "metadata": {},
     "output_type": "display_data"
    }
   ],
   "source": [
    "plt.plot(radius,PSNR2)\n",
    "plt.scatter(30,PSNR2[2],s=150, facecolors='none', edgecolors='r')\n",
    "plt.xlabel(\"Radius of guided filter\")\n",
    "plt.ylabel(\"PSNR(dB)\")\n",
    "plt.title(\"Optimizing the value of guided filter radius\")\n",
    "plt.show()"
   ]
  },
  {
   "cell_type": "code",
   "execution_count": 117,
   "metadata": {},
   "outputs": [
    {
     "name": "stdout",
     "output_type": "stream",
     "text": [
      "[ 3  7 11 15 19 23 27 31 35 39]\n",
      "0 1 2 3 4 5 6 7 8 9 10 11 12 13 14 15 16 17 18 19 20 21 22 23 24 25 26 27 28 29 30 31 32 33 34 35 36 37 38 39 40 41 42 43 44 27.951386367608634\n",
      "0 1 2 3 4 5 6 7 8 9 10 11 12 13 14 15 16 17 18 19 20 21 22 23 24 25 26 27 28 29 30 31 32 33 34 35 36 37 38 39 40 41 42 43 44 28.034251358393536\n",
      "0 1 2 3 4 5 6 7 8 9 10 11 12 13 14 15 16 17 18 19 20 21 22 23 24 25 26 27 28 29 30 31 32 33 34 35 36 37 38 39 40 41 42 43 44 28.06518482109126\n",
      "0 1 2 3 4 5 6 7 8 9 10 11 12 13 14 15 16 17 18 19 20 21 22 23 24 25 26 27 28 29 30 31 32 33 34 35 36 37 38 39 40 41 42 43 44 28.09061501795127\n",
      "0 1 2 3 4 5 6 7 8 9 10 11 12 13 14 15 16 17 18 19 20 21 22 23 24 25 26 27 28 29 30 31 32 33 34 35 36 37 38 39 40 41 42 43 44 28.105173571264707\n",
      "0 1 2 3 4 5 6 7 8 9 10 11 12 13 14 15 16 17 18 19 20 21 22 23 24 25 26 27 28 29 30 31 32 33 34 35 36 37 38 39 40 41 42 43 44 28.117574306393333\n",
      "0 1 2 3 4 5 6 7 8 9 10 11 12 13 14 15 16 17 18 19 20 21 22 23 24 25 26 27 28 29 30 31 32 33 34 35 36 37 38 39 40 41 42 43 44 28.129976424689424\n",
      "0 1 2 3 4 5 6 7 8 9 10 11 12 13 14 15 16 17 18 19 20 21 22 23 24 25 26 27 28 29 30 31 32 33 34 35 36 37 38 39 40 41 42 43 44 28.13065078466695\n",
      "0 1 2 3 4 5 6 7 8 9 10 11 12 13 14 15 16 17 18 19 20 21 22 23 24 25 26 27 28 29 30 31 32 33 34 35 36 37 38 39 40 41 42 43 44 28.114717662114508\n",
      "0 1 2 3 4 5 6 7 8 9 10 11 12 13 14 15 16 17 18 19 20 21 22 23 24 25 26 27 28 29 30 31 32 33 34 35 36 37 38 39 40 41 42 43 44 28.11335466389212\n"
     ]
    }
   ],
   "source": [
    "gt = next(os.walk('./Dataset/O-Haze/GT'))[2]\n",
    "gt.sort()\n",
    "hazy = next(os.walk('./Dataset/O-Haze/hazy/'))[2]\n",
    "hazy.sort()\n",
    "PSNR3 = []\n",
    "dark_window = np.arange(3,40,4)\n",
    "print(dark_window)\n",
    "for r in dark_window:\n",
    "    p = 0\n",
    "    for i in range(len(gt)):\n",
    "        print(str(i) + ' ',end='')\n",
    "        p += run(os.path.join('./Dataset/O-Haze/GT',gt[i]), os.path.join('./Dataset/O-Haze/hazy',hazy[i]),0.85,0.1,30,r)\n",
    "    print(p/len(gt))\n",
    "    PSNR3.append(p/len(gt))"
   ]
  },
  {
   "cell_type": "code",
   "execution_count": 130,
   "metadata": {},
   "outputs": [
    {
     "data": {
      "image/png": "[encoded data removed]",
      "text/plain": [
       "<Figure size 432x288 with 1 Axes>"
      ]
     },
     "metadata": {},
     "output_type": "display_data"
    }
   ],
   "source": [
    "plt.plot(dark_window,PSNR3)\n",
    "plt.scatter(31,PSNR3[7],s=150, facecolors='none', edgecolors='r')\n",
    "plt.xlabel(\"Window Size for dark channel\")\n",
    "plt.ylabel(\"PSNR(dB)\")\n",
    "plt.title(\"Optimizing the value of dark channel window size\")\n",
    "plt.show()"
   ]
  },
  {
   "cell_type": "code",
   "execution_count": 124,
   "metadata": {},
   "outputs": [
    {
     "data": {
      "text/plain": [
       "[27.951386367608634,\n",
       " 28.034251358393536,\n",
       " 28.06518482109126,\n",
       " 28.09061501795127,\n",
       " 28.105173571264707,\n",
       " 28.117574306393333,\n",
       " 28.129976424689424,\n",
       " 28.13065078466695,\n",
       " 28.114717662114508,\n",
       " 28.11335466389212]"
      ]
     },
     "execution_count": 124,
     "metadata": {},
     "output_type": "execute_result"
    }
   ],
   "source": []
  },
  {
   "cell_type": "code",
   "execution_count": null,
   "metadata": {},
   "outputs": [],
   "source": []
  }
 ],
 "metadata": {
  "kernelspec": {
   "display_name": "Python 3",
   "language": "python3",
   "name": "python3"
  },
  "language_info": {
   "codemirror_mode": {
    "name": "ipython",
    "version": 3
   },
   "file_extension": ".py",
   "mimetype": "text/x-python",
   "name": "python",
   "nbconvert_exporter": "python",
   "pygments_lexer": "ipython3",
   "version": "3.5.2"
  }
 },
 "nbformat": 4,
 "nbformat_minor": 2
}
