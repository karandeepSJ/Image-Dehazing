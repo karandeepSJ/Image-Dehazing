{
 "cells": [
  {
   "cell_type": "code",
   "execution_count": 1,
   "metadata": {},
   "outputs": [],
   "source": [
    "import cv2\n",
    "import numpy as np\n",
    "import matplotlib.pyplot as plt"
   ]
  },
  {
   "cell_type": "code",
   "execution_count": 2,
   "metadata": {},
   "outputs": [],
   "source": [
    "def get_dark_channel(img, wind_size):\n",
    "    no_rows = img.shape[0]\n",
    "    no_cols = img.shape[1]\n",
    "    min_channel = np.zeros((img.shape[0], img.shape[1]), dtype=np.uint8)\n",
    "    dark_channel = np.zeros((img.shape[0], img.shape[1]), dtype=np.uint8)\n",
    "    for row in range(no_rows):\n",
    "        for col in range(no_cols):\n",
    "            min_channel[row][col] = np.min(img[row,col,:])\n",
    "    for row in range(wind_size//2, no_rows-wind_size//2):\n",
    "        for col in range(wind_size//2, no_cols-wind_size//2):\n",
    "            dark_channel[row][col] = np.min(min_channel[row-wind_size//2:row+wind_size//2,col-wind_size//2:col+wind_size//2])\n",
    "    return dark_channel"
   ]
  },
  {
   "cell_type": "code",
   "execution_count": 4,
   "metadata": {},
   "outputs": [],
   "source": [
    "img = cv2.imread(\"Dataset/pic2.png\")\n",
    "dark_channel_img = get_dark_channel(img, 15)\n",
    "cv2.imshow('image',np.uint8(dark_channel_img))\n",
    "cv2.waitKey(0)\n",
    "cv2.destroyAllWindows()"
   ]
  },
  {
   "cell_type": "code",
   "execution_count": null,
   "metadata": {},
   "outputs": [],
   "source": []
  }
 ],
 "metadata": {
  "kernelspec": {
   "display_name": "Python 3",
   "language": "python",
   "name": "python3"
  },
  "language_info": {
   "codemirror_mode": {
    "name": "ipython",
    "version": 3
   },
   "file_extension": ".py",
   "mimetype": "text/x-python",
   "name": "python",
   "nbconvert_exporter": "python",
   "pygments_lexer": "ipython3",
   "version": "3.5.2"
  }
 },
 "nbformat": 4,
 "nbformat_minor": 2
}
