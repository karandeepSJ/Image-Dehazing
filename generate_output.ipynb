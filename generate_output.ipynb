{
 "cells": [
  {
   "cell_type": "code",
   "execution_count": 4,
   "metadata": {},
   "outputs": [],
   "source": [
    "import cv2\n",
    "import numpy as np\n",
    "import matplotlib.pyplot as plt\n",
    "import os"
   ]
  },
  {
   "cell_type": "code",
   "execution_count": 2,
   "metadata": {},
   "outputs": [],
   "source": [
    "def get_dark_channel(img, wind_size):\n",
    "    dark_channel = np.zeros((img.shape[0], img.shape[1]))\n",
    "    img = cv2.copyMakeBorder(img,wind_size//2,wind_size//2,wind_size//2,wind_size//2,cv2.BORDER_CONSTANT,value=[255,255,255])    \n",
    "    no_rows = img.shape[0]\n",
    "    no_cols = img.shape[1]\n",
    "    min_channel = np.zeros((no_rows, no_cols))\n",
    "    for row in range(no_rows):\n",
    "        for col in range(no_cols):\n",
    "            min_channel[row-wind_size//2][col-wind_size//2] = np.min(img[row,col,:])\n",
    "    for row in range(wind_size//2, no_rows-wind_size//2):\n",
    "        for col in range(wind_size//2, no_cols-wind_size//2):\n",
    "            dark_channel[row-wind_size//2][col-wind_size//2] = np.min(min_channel[row-wind_size//2:row+wind_size//2,col-wind_size//2:col+wind_size//2])\n",
    "    return dark_channel"
   ]
  },
  {
   "cell_type": "code",
   "execution_count": 3,
   "metadata": {},
   "outputs": [],
   "source": [
    "def get_atm_light(im, dark_channel_img):\n",
    "    img = im.copy()\n",
    "    num_pixels = dark_channel_img.size\n",
    "    num_brightest = num_pixels//1000\n",
    "    haze_density_sort_idx = np.argsort(dark_channel_img,axis=None)[::-1]\n",
    "    brightest = haze_density_sort_idx[0:num_brightest]\n",
    "    brightest = np.unravel_index(brightest,dark_channel_img.shape)\n",
    "    brightest_pixels = img[brightest]\n",
    "    top_intensities = np.average(brightest_pixels, axis=1)\n",
    "    max_intensity = np.argmax(top_intensities)\n",
    "    A = brightest_pixels[max_intensity]\n",
    "    img[brightest]=[255,0,0]\n",
    "    row_min = np.min(brightest[0])\n",
    "    row_max = np.max(brightest[0])\n",
    "    col_min = np.min(brightest[1])\n",
    "    col_max = np.max(brightest[1])\n",
    "    cv2.rectangle(img, (col_min,row_min),(col_max,row_max),(0,0,255),thickness=2)\n",
    "    return A"
   ]
  },
  {
   "cell_type": "code",
   "execution_count": 5,
   "metadata": {},
   "outputs": [],
   "source": [
    "def refine(img, transmission, radius, epsilon):\n",
    "    mean_guide = cv2.blur(img,(radius,radius))\n",
    "    mean_trans = cv2.blur(transmission,(radius,radius))\n",
    "    mean_gt = cv2.blur(img * transmission, (radius,radius))\n",
    "    \n",
    "    a = mean_gt - mean_guide * mean_trans\n",
    "    var_guide = cv2.blur(img * img,(radius,radius)) - (mean_guide * mean_guide)\n",
    "    a = a/(var_guide + epsilon)\n",
    "    b = mean_trans - a * mean_guide\n",
    "\n",
    "    q = cv2.blur(a,(radius,radius)) * img + cv2.blur(b,(radius,radius))\n",
    "    return q"
   ]
  },
  {
   "cell_type": "code",
   "execution_count": 6,
   "metadata": {},
   "outputs": [],
   "source": [
    "def recover_image(img, trans_bar, atm_light, t0):\n",
    "    trans_recover = np.copy(trans_bar)\n",
    "    trans_recover[trans_recover < t0] = t0\n",
    "    J = np.zeros((img.shape))\n",
    "    J[:,:,0] = ((img[:,:,0] - atm_light[0])/trans_recover) + atm_light[0]\n",
    "    J[:,:,1] = ((img[:,:,1] - atm_light[1])/trans_recover) + atm_light[1]\n",
    "    J[:,:,2] = ((img[:,:,2] - atm_light[2])/trans_recover) + atm_light[2]\n",
    "    return J"
   ]
  },
  {
   "cell_type": "code",
   "execution_count": 7,
   "metadata": {},
   "outputs": [],
   "source": [
    "def color_balance(img, s):\n",
    "    out = np.copy(img)\n",
    "    hist = np.zeros((256,1))\n",
    "    no_of_pixels = img.shape[0] * img.shape[1]\n",
    "    for i in range(3):\n",
    "        channel_vals = img[:,:,i]\n",
    "        for pixel_val in range(256):\n",
    "            hist[pixel_val] = np.sum((channel_vals == pixel_val)) \n",
    "        for pixel_val in range(256):\n",
    "            hist[pixel_val] = hist[pixel_val-1] + hist[pixel_val]\n",
    "        Vmin = 0\n",
    "        while (Vmin < 255 and hist[Vmin] <= no_of_pixels*s):\n",
    "            Vmin += 1\n",
    "        Vmax = 255\n",
    "        while (Vmax > 0 and hist[Vmax] > no_of_pixels*(1-s)):\n",
    "            Vmax -= 1\n",
    "        channel_vals[channel_vals < Vmin] = Vmin\n",
    "        channel_vals[channel_vals > Vmax] = Vmax\n",
    "        out[:,:,i] = cv2.normalize(channel_vals, channel_vals.copy(), 0, 255, cv2.NORM_MINMAX)\n",
    "    return out"
   ]
  },
  {
   "cell_type": "code",
   "execution_count": 8,
   "metadata": {},
   "outputs": [],
   "source": [
    "def run(img, omega, t0, radius, dark_rad):\n",
    "    dark_channel_img = get_dark_channel(img, dark_rad)\n",
    "    dark_channel_img = dark_channel_img.astype('uint8')\n",
    "    atm_light = get_atm_light(img,dark_channel_img)\n",
    "    t_bar = get_dark_channel(img/atm_light,dark_rad)\n",
    "    trans_bar = 1-(omega * t_bar)\n",
    "    i=cv2.cvtColor(img,cv2.COLOR_BGR2GRAY)/255\n",
    "    t_refine = refine(i, trans_bar, radius, 0.0001)\n",
    "    im = img.astype(\"double\")\n",
    "    J = recover_image(im, t_refine, atm_light, t0)\n",
    "    J = ((J-np.min(J))/(np.max(J)-np.min(J)))*255\n",
    "    cb_J = color_balance(np.uint8(J),0.005)\n",
    "    return cb_J"
   ]
  },
  {
   "cell_type": "code",
   "execution_count": 27,
   "metadata": {},
   "outputs": [],
   "source": [
    "dataset_dir = './Dataset/'\n",
    "output_dir = './Output/'\n",
    "data_dirs = next(os.walk(dataset_dir))[1]\n",
    "for dir in data_dirs:\n",
    "    data = next(os.walk(os.path.join(dataset_dir, dir, 'hazy')))[2]\n",
    "    data.sort()\n",
    "    for img_name in data:\n",
    "        output_path = os.path.join(output_dir, dir, img_name)\n",
    "        im = cv2.imread(os.path.join(dataset_dir, dir, 'hazy', img_name))\n",
    "        if im.shape[0] >2000:\n",
    "            im = cv2.resize(im, (0,0), fx=0.25, fy=0.25)\n",
    "        clear_img = run(im, 0.85, 0.1, 30, 15)\n",
    "        cv2.imwrite(output_path, clear_img)"
   ]
  },
  {
   "cell_type": "code",
   "execution_count": null,
   "metadata": {},
   "outputs": [],
   "source": []
  },
  {
   "cell_type": "code",
   "execution_count": null,
   "metadata": {},
   "outputs": [],
   "source": []
  }
 ],
 "metadata": {
  "kernelspec": {
   "display_name": "Python 3",
   "language": "python3",
   "name": "python3"
  },
  "language_info": {
   "codemirror_mode": {
    "name": "ipython",
    "version": 3
   },
   "file_extension": ".py",
   "mimetype": "text/x-python",
   "name": "python",
   "nbconvert_exporter": "python",
   "pygments_lexer": "ipython3",
   "version": "3.5.2"
  }
 },
 "nbformat": 4,
 "nbformat_minor": 2
}
